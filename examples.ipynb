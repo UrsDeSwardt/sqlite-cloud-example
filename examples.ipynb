{
 "cells": [
  {
   "cell_type": "markdown",
   "metadata": {},
   "source": [
    "# EXAMPLES\n",
    "Here are some helpful examples on using sqlitecloud."
   ]
  },
  {
   "cell_type": "code",
   "execution_count": 1,
   "metadata": {},
   "outputs": [],
   "source": [
    "import requests\n",
    "from settings import settings"
   ]
  },
  {
   "cell_type": "markdown",
   "metadata": {},
   "source": [
    "## POST DATA "
   ]
  },
  {
   "cell_type": "code",
   "execution_count": 2,
   "metadata": {},
   "outputs": [
    {
     "data": {
      "text/plain": [
       "{'data': 'OK',\n",
       " 'metadata': {'connectedMs': 46, 'executedMs': 21, 'elapsedMs': 67}}"
      ]
     },
     "execution_count": 2,
     "metadata": {},
     "output_type": "execute_result"
    }
   ],
   "source": [
    "url = f\"https://{settings.PROJECT_ID}.sqlite.cloud/v2/weblite/{settings.DATABASE_NAME}/{settings.TABLE_NAME}\"\n",
    "\n",
    "headers = {\n",
    "    \"Authorization\": f\"Bearer sqlitecloud://cbjmwxaohz.g5.sqlite.cloud:8860?apikey={settings.API_KEY}\",\n",
    "    \"accept\": \"application/json\",\n",
    "    \"Content-Type\": \"application/json\",\n",
    "}\n",
    "\n",
    "data = [{\"temperature\": 20.0, \"humidity\": 20.0}]\n",
    "\n",
    "response = requests.post(\n",
    "    url=url,\n",
    "    headers=headers,\n",
    "    json=data,\n",
    ")\n",
    "\n",
    "response.json()"
   ]
  },
  {
   "cell_type": "markdown",
   "metadata": {},
   "source": [
    "## GET DATA"
   ]
  },
  {
   "cell_type": "code",
   "execution_count": 3,
   "metadata": {},
   "outputs": [
    {
     "data": {
      "text/plain": [
       "{'data': [{'id': 1,\n",
       "   'temperature': 1,\n",
       "   'humidity': 2,\n",
       "   'created_at': '2025-02-09 12:06:01'},\n",
       "  {'id': 2,\n",
       "   'temperature': 20,\n",
       "   'humidity': 20,\n",
       "   'created_at': '2025-02-09 12:10:38'},\n",
       "  {'id': 3,\n",
       "   'temperature': 20,\n",
       "   'humidity': 20,\n",
       "   'created_at': '2025-02-09 12:15:41'},\n",
       "  {'id': 4,\n",
       "   'temperature': 20,\n",
       "   'humidity': 20,\n",
       "   'created_at': '2025-02-09 12:27:00'},\n",
       "  {'id': 5,\n",
       "   'temperature': 20,\n",
       "   'humidity': 20,\n",
       "   'created_at': '2025-02-09 19:00:27'}],\n",
       " 'metadata': {'connectedMs': 27, 'executedMs': 19, 'elapsedMs': 46}}"
      ]
     },
     "execution_count": 3,
     "metadata": {},
     "output_type": "execute_result"
    }
   ],
   "source": [
    "url = f\"https://{settings.PROJECT_ID}.sqlite.cloud/v2/weblite/{settings.DATABASE_NAME}/{settings.TABLE_NAME}\"\n",
    "\n",
    "headers = {\n",
    "    \"Authorization\": f\"Bearer sqlitecloud://{settings.PROJECT_ID}.sqlite.cloud:8860?apikey={settings.API_KEY}\",\n",
    "    \"accept\": \"application/json\",\n",
    "}\n",
    "\n",
    "response = requests.get(\n",
    "    url=url,\n",
    "    headers=headers,\n",
    "    params={\"limit\": 10}, # limit the number of rows returned\n",
    ")\n",
    "\n",
    "response.json()"
   ]
  },
  {
   "cell_type": "markdown",
   "metadata": {},
   "source": [
    "## GET DATA USING THE SQLITE CLIENT"
   ]
  },
  {
   "cell_type": "code",
   "execution_count": 4,
   "metadata": {},
   "outputs": [
    {
     "name": "stdout",
     "output_type": "stream",
     "text": [
      "[(1, 1.0, 2.0, '2025-02-09 12:06:01'), (2, 20.0, 20.0, '2025-02-09 12:10:38'), (3, 20.0, 20.0, '2025-02-09 12:15:41'), (4, 20.0, 20.0, '2025-02-09 12:27:00'), (5, 20.0, 20.0, '2025-02-09 19:00:27')]\n"
     ]
    }
   ],
   "source": [
    "import sqlitecloud\n",
    "\n",
    "conn = sqlitecloud.connect(f\"sqlitecloud://{settings.PROJECT_ID}.sqlite.cloud:8860/{settings.DATABASE_NAME}?apikey={settings.API_KEY}\")\n",
    "cursor = conn.execute('SELECT * FROM sensor_data;')\n",
    "result = cursor.fetchall()\n",
    "\n",
    "print(result)\n",
    "\n",
    "conn.close()"
   ]
  }
 ],
 "metadata": {
  "kernelspec": {
   "display_name": ".venv",
   "language": "python",
   "name": "python3"
  },
  "language_info": {
   "codemirror_mode": {
    "name": "ipython",
    "version": 3
   },
   "file_extension": ".py",
   "mimetype": "text/x-python",
   "name": "python",
   "nbconvert_exporter": "python",
   "pygments_lexer": "ipython3",
   "version": "3.12.5"
  }
 },
 "nbformat": 4,
 "nbformat_minor": 2
}
